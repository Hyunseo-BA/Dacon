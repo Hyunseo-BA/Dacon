{
 "cells": [
  {
   "cell_type": "markdown",
   "metadata": {},
   "source": [
    "# 데이터 확인 및 전처리\n",
    "- 결측 및 이상치 확인\n",
    "- Train의 X, y 변수 시각화\n",
    "- 상관관계 확인\n",
    "- 특징(클러스터링, PCA, K-means, 도메인 이용 등..) 추출\n",
    "\n",
    "# 다중 회귀 예측 모델링\n",
    "- 타겟변수 그룹별 모델링\n",
    "- 타겟변수 별 특정 서브 모델\n",
    "- 선형 / 비선형 / 트리 및 앙상블 / 신경망\n",
    "- 자체 성능 평가\n",
    "\n",
    "# 성능 개선 작업\n",
    "- 주요 특징 선택(유전알고리즘, 변수중요도, 라쏘 등..)\n",
    "- 최적화(그리드, 베이지안, 하이퍼밴드)\n",
    "- 과적합 방지(일반화)"
   ]
  },
  {
   "cell_type": "code",
   "execution_count": 29,
   "metadata": {},
   "outputs": [],
   "source": [
    "\n",
    "# Library\n",
    "import os\n",
    "import sys\n",
    "import numpy as np\n",
    "import pandas as pd\n",
    "np.random.seed(55)\n",
    "os.environ['PYTHONHASHSEED'] = str(55)\n",
    "\n",
    "import matplotlib.pyplot as plt\n",
    "import seaborn as sns\n",
    "sns.set()\n",
    "%matplotlib inline\n",
    "\n",
    "import sklearn\n",
    "from sklearn.preprocessing import StandardScaler, MinMaxScaler\n",
    "from sklearn.linear_model import LassoCV, Lasso, LinearRegression\n",
    "from sklearn.multioutput import RegressorChain\n",
    "from sklearn.metrics import mean_squared_error\n",
    "from sklearn.model_selection import train_test_split, KFold\n",
    "\n",
    "import warnings\n",
    "warnings.filterwarnings('ignore')\n",
    "\n"
   ]
  },
  {
   "cell_type": "code",
   "execution_count": 17,
   "metadata": {},
   "outputs": [],
   "source": [
    "# Load Data\n",
    "train_df = pd.read_csv('./open/train.csv')\n",
    "train_x = train_df.filter(regex=\"X\")\n",
    "train_y = train_df.filter(regex=\"Y\")\n",
    "\n",
    "test = pd.read_csv(\"./open/test.csv\").drop(columns='ID')"
   ]
  },
  {
   "cell_type": "code",
   "execution_count": 18,
   "metadata": {},
   "outputs": [],
   "source": [
    "# 무의미 변수 제거(표준편차 0, 데이터 변동 없음)\n",
    "# X_04, 23, 47, 48\n",
    "X_tr_std = pd.Series(np.std(train_x))\n",
    "Del_idx = X_tr_std[X_tr_std==0].index\n",
    "\n",
    "train_x = train_x.drop(Del_idx, axis=1)\n",
    "test = test.drop(Del_idx, axis=1)\n",
    "\n",
    "train_x.shape, test.shape"
   ]
  },
  {
   "cell_type": "code",
   "execution_count": 20,
   "metadata": {},
   "outputs": [],
   "source": [
    "scaler = StandardScaler()\n",
    "scaler.fit(train_x)\n",
    "train_x = scaler.transform(train_x)\n",
    "\n",
    "scaler.fit(test)\n",
    "test_x = scaler.transform(test)"
   ]
  },
  {
   "cell_type": "code",
   "execution_count": 32,
   "metadata": {},
   "outputs": [],
   "source": [
    "X_train, X_val, y_train, y_val = train_test_split(train_x, train_y, test_size=0.2)"
   ]
  },
  {
   "cell_type": "code",
   "execution_count": 33,
   "metadata": {},
   "outputs": [
    {
     "data": {
      "text/plain": [
       "((31685, 52), (7922, 52))"
      ]
     },
     "execution_count": 33,
     "metadata": {},
     "output_type": "execute_result"
    }
   ],
   "source": [
    "X_train.shape, X_val.shape"
   ]
  },
  {
   "cell_type": "code",
   "execution_count": 21,
   "metadata": {},
   "outputs": [
    {
     "name": "stdout",
     "output_type": "stream",
     "text": [
      "Done.\n"
     ]
    }
   ],
   "source": [
    "LR = RegressorChain(LinearRegression()).fit(X_train, y_train)\n",
    "print('Done.')"
   ]
  },
  {
   "cell_type": "code",
   "execution_count": 35,
   "metadata": {},
   "outputs": [
    {
     "name": "stdout",
     "output_type": "stream",
     "text": [
      "Done.\n"
     ]
    }
   ],
   "source": [
    "preds = LR.predict(X_val)\n",
    "print('Done.')"
   ]
  },
  {
   "cell_type": "code",
   "execution_count": 56,
   "metadata": {},
   "outputs": [],
   "source": [
    "def lg_nrmse(gt, preds):\n",
    "    # 각 Y Feature별 NRMSE 총합\n",
    "    # Y_01 ~ Y_08 까지 20% 가중치 부여\n",
    "    all_nrmse = []\n",
    "    \n",
    "    for idx in range(0,14): # ignore 'ID'\n",
    "        rmse = mean_squared_error(gt[:,idx], preds[:,idx], squared=False)\n",
    "        nrmse = rmse/np.mean(np.abs(gt[:,idx]))\n",
    "        all_nrmse.append(nrmse)\n",
    "    score = 1.2 * np.sum(all_nrmse[:8]) + 1.0 * np.sum(all_nrmse[8:15])\n",
    "    \n",
    "    return score"
   ]
  },
  {
   "cell_type": "code",
   "execution_count": 57,
   "metadata": {},
   "outputs": [
    {
     "data": {
      "text/plain": [
       "1.9412112530832923"
      ]
     },
     "execution_count": 57,
     "metadata": {},
     "output_type": "execute_result"
    }
   ],
   "source": [
    "lg_nrmse(np.array(y_val), preds)"
   ]
  },
  {
   "cell_type": "code",
   "execution_count": 54,
   "metadata": {},
   "outputs": [
    {
     "data": {
      "text/plain": [
       "0.12321742554320692"
      ]
     },
     "execution_count": 54,
     "metadata": {},
     "output_type": "execute_result"
    }
   ],
   "source": [
    "mean_squared_error(np.array(y_val)[:,0], preds[:,0])"
   ]
  },
  {
   "cell_type": "code",
   "execution_count": 40,
   "metadata": {},
   "outputs": [
    {
     "data": {
      "text/plain": [
       "Y_01     1.599\n",
       "Y_02     1.630\n",
       "Y_03     1.419\n",
       "Y_04    14.057\n",
       "Y_05    31.797\n",
       "Y_06    16.832\n",
       "Y_07     3.372\n",
       "Y_08   -26.063\n",
       "Y_09   -26.234\n",
       "Y_10   -21.858\n",
       "Y_11    24.551\n",
       "Y_12   -26.214\n",
       "Y_13   -26.275\n",
       "Y_14   -26.304\n",
       "Name: 34539, dtype: float64"
      ]
     },
     "execution_count": 40,
     "metadata": {},
     "output_type": "execute_result"
    }
   ],
   "source": [
    "y_val.iloc[0,:]"
   ]
  },
  {
   "cell_type": "code",
   "execution_count": 36,
   "metadata": {},
   "outputs": [
    {
     "data": {
      "text/plain": [
       "array([  1.31452732,   0.98553195,   0.94392472,  13.94011028,\n",
       "        31.43871335,  16.5899187 ,   3.14440539, -26.3783108 ,\n",
       "       -26.40587942, -22.27802306,  24.23350992, -26.32782841,\n",
       "       -26.31894918, -26.32977016])"
      ]
     },
     "execution_count": 36,
     "metadata": {},
     "output_type": "execute_result"
    }
   ],
   "source": [
    "preds[0]"
   ]
  },
  {
   "cell_type": "code",
   "execution_count": 26,
   "metadata": {},
   "outputs": [
    {
     "name": "stdout",
     "output_type": "stream",
     "text": [
      "Done.\n"
     ]
    }
   ],
   "source": [
    "submit = pd.read_csv('./open/sample_submission.csv')\n",
    "\n",
    "for id, col in enumerate(submit.columns):\n",
    "    if col=='ID':\n",
    "        continue\n",
    "    submit[col] = preds[:,id-1]\n",
    "print('Done.')"
   ]
  },
  {
   "cell_type": "code",
   "execution_count": 27,
   "metadata": {},
   "outputs": [],
   "source": [
    "submit.to_csv('./submit_2.csv',index=False)"
   ]
  }
 ],
 "metadata": {
  "kernelspec": {
   "display_name": "Python 3.9.7 ('base')",
   "language": "python",
   "name": "python3"
  },
  "language_info": {
   "codemirror_mode": {
    "name": "ipython",
    "version": 3
   },
   "file_extension": ".py",
   "mimetype": "text/x-python",
   "name": "python",
   "nbconvert_exporter": "python",
   "pygments_lexer": "ipython3",
   "version": "3.9.7"
  },
  "orig_nbformat": 4,
  "vscode": {
   "interpreter": {
    "hash": "c6e4e9f98eb68ad3b7c296f83d20e6de614cb42e90992a65aa266555a3137d0d"
   }
  }
 },
 "nbformat": 4,
 "nbformat_minor": 2
}
