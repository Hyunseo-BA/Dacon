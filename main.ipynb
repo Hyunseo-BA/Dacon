{
 "cells": [
  {
   "cell_type": "code",
   "execution_count": 2,
   "metadata": {},
   "outputs": [],
   "source": [
    "# Library\n",
    "import os\n",
    "import sys\n",
    "import numpy as np\n",
    "import pandas as pd\n",
    "np.random.seed(55)\n",
    "os.environ['PYTHONHASHSEED'] = str(55)\n",
    "\n",
    "import matplotlib.pyplot as plt\n",
    "import seaborn as sns\n",
    "sns.set()\n",
    "%matplotlib inline\n",
    "\n",
    "import sklearn\n",
    "from sklearn.preprocessing import StandardScaler\n",
    "from sklearn.linear_model import LassoCV, Lasso\n",
    "from sklearn.metrics import mean_squared_error\n",
    "\n",
    "import warnings\n",
    "warnings.filterwarnings('ignore')\n",
    "\n",
    "from multiprocessing.dummy import Pool as ThreadPool\n",
    "\n"
   ]
  },
  {
   "cell_type": "markdown",
   "metadata": {},
   "source": [
    "# 데이터 확인 및 전처리\n",
    "- 결측 및 이상치 확인\n",
    "- Train의 X, y 변수 시각화\n",
    "- 상관관계 확인\n",
    "- 특징(클러스터링, PCA, K-means, 도메인 이용 등..) 추출\n",
    "\n",
    "# 다중 회귀 예측 모델링\n",
    "- 하나의 모델로 다중 회귀(RegressorChain)\n",
    "- 타겟변수 별 특정 서브 모델\n",
    "- 선형 / 비선형 / 트리 및 앙상블 / 신경망\n",
    "- 자체 성능 평가\n",
    "\n",
    "# 성능 개선 작업\n",
    "- 주요 특징 선택(유전알고리즘, 변수중요도, 라쏘 등..)\n",
    "- 최적화(그리드, 베이지안, 하이퍼밴드)\n",
    "- 과적합 방지(일반화)"
   ]
  },
  {
   "cell_type": "code",
   "execution_count": null,
   "metadata": {},
   "outputs": [],
   "source": [
    "# Load Data\n",
    "train_df = pd.read_csv('./open/train.csv')\n",
    "train_x = train_df.filter(regex=\"X\")\n",
    "train_y = train_df.filter(regex=\"Y\")\n",
    "\n",
    "test = pd.read_csv(\"./open/test.csv\")"
   ]
  }
 ],
 "metadata": {
  "kernelspec": {
   "display_name": "Python 3.10.5 64-bit",
   "language": "python",
   "name": "python3"
  },
  "language_info": {
   "codemirror_mode": {
    "name": "ipython",
    "version": 3
   },
   "file_extension": ".py",
   "mimetype": "text/x-python",
   "name": "python",
   "nbconvert_exporter": "python",
   "pygments_lexer": "ipython3",
   "version": "3.10.5"
  },
  "orig_nbformat": 4,
  "vscode": {
   "interpreter": {
    "hash": "df95319d8ce4e1d89f5365ae10992bc1f65da593082b1d264e8f529830ec2f02"
   }
  }
 },
 "nbformat": 4,
 "nbformat_minor": 2
}
