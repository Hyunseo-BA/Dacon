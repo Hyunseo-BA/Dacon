{
 "cells": [
  {
   "cell_type": "markdown",
   "metadata": {},
   "source": [
    "# 제출용 메인 코드"
   ]
  },
  {
   "cell_type": "markdown",
   "metadata": {},
   "source": [
    "# 데이터 확인 및 전처리\n",
    "- 결측 및 이상치 확인\n",
    "- Train의 X, y 변수 시각화\n",
    "- 상관관계 확인\n",
    "- 특징(클러스터링, PCA, K-means, 도메인 이용 등..) 추출\n",
    "\n",
    "# 다중 회귀 예측 모델링\n",
    "- 타겟변수 그룹별 모델링\n",
    "- 타겟변수 별 특정 서브 모델\n",
    "- 선형 / 비선형 / 트리 및 앙상블 / 신경망\n",
    "- 자체 성능 평가\n",
    "\n",
    "# 성능 개선 작업\n",
    "- 주요 특징 선택(유전알고리즘, 변수중요도, 라쏘 등..)\n",
    "- 최적화(그리드, 베이지안, 하이퍼밴드)\n",
    "- 과적합 방지(일반화)"
   ]
  },
  {
   "cell_type": "code",
   "execution_count": 56,
   "metadata": {},
   "outputs": [],
   "source": [
    "\n",
    "# Library\n",
    "import os\n",
    "import sys\n",
    "import numpy as np\n",
    "import pandas as pd\n",
    "\n",
    "# Visualization\n",
    "import matplotlib.pyplot as plt\n",
    "import seaborn as sns\n",
    "sns.set()\n",
    "%matplotlib inline\n",
    "\n",
    "# modeling\n",
    "import sklearn\n",
    "from sklearn.preprocessing import StandardScaler, MinMaxScaler\n",
    "from sklearn.linear_model import LassoCV, Lasso, LinearRegression\n",
    "from sklearn.multioutput import MultiOutputRegressor\n",
    "from sklearn.metrics import mean_squared_error\n",
    "from sklearn.model_selection import train_test_split, KFold\n",
    "import lightgbm as lgbm\n",
    "from lightgbm.sklearn import LGBMRegressor\n",
    "\n",
    "# ignore warnings\n",
    "import warnings\n",
    "warnings.filterwarnings('ignore')\n",
    "\n",
    "# Fix Seed \n",
    "def seed_everything(seed):\n",
    "    np.random.seed(seed)\n",
    "    os.environ['PYTHONHASHSEED'] = str(seed)\n",
    "    np.random.seed(seed)\n",
    "seed_everything(42) # Seed 고정"
   ]
  },
  {
   "cell_type": "code",
   "execution_count": 2,
   "metadata": {},
   "outputs": [],
   "source": [
    "# Load Data\n",
    "train_df = pd.read_csv('./open/train.csv')\n",
    "train_x = train_df.filter(regex=\"X\")\n",
    "train_y = train_df.filter(regex=\"Y\")\n",
    "\n",
    "test = pd.read_csv(\"./open/test.csv\").drop(columns='ID')"
   ]
  },
  {
   "cell_type": "code",
   "execution_count": 3,
   "metadata": {},
   "outputs": [
    {
     "data": {
      "text/plain": [
       "((39607, 52), (39608, 52))"
      ]
     },
     "execution_count": 3,
     "metadata": {},
     "output_type": "execute_result"
    }
   ],
   "source": [
    "# 무의미 변수 제거(표준편차 0, 데이터 변동 없음)\n",
    "# X_04, 23, 47, 48\n",
    "X_tr_std = pd.Series(np.std(train_x))\n",
    "Del_idx = X_tr_std[X_tr_std==0].index\n",
    "\n",
    "train_x = train_x.drop(Del_idx, axis=1)\n",
    "test = test.drop(Del_idx, axis=1)\n",
    "\n",
    "train_x.shape, test.shape"
   ]
  },
  {
   "cell_type": "code",
   "execution_count": 93,
   "metadata": {},
   "outputs": [
    {
     "data": {
      "text/plain": [
       "((31685, 52), (7922, 52))"
      ]
     },
     "execution_count": 93,
     "metadata": {},
     "output_type": "execute_result"
    }
   ],
   "source": [
    "X_train, X_val, y_train, y_val = train_test_split(train_x, train_y, test_size=0.2)\n",
    "X_train.shape, X_val.shape"
   ]
  },
  {
   "cell_type": "code",
   "execution_count": 94,
   "metadata": {},
   "outputs": [
    {
     "data": {
      "text/plain": [
       "28103    11.355\n",
       "31300    14.553\n",
       "9743     17.256\n",
       "12914    11.235\n",
       "29741    14.904\n",
       "          ...  \n",
       "32215    13.205\n",
       "7973     15.225\n",
       "21044    12.902\n",
       "20162    13.733\n",
       "1784     17.801\n",
       "Name: Y_04, Length: 7922, dtype: float64"
      ]
     },
     "execution_count": 94,
     "metadata": {},
     "output_type": "execute_result"
    }
   ],
   "source": [
    "y_train = y_train['Y_04']\n",
    "y_val = y_val['Y_04']\n",
    "\n",
    "y_val"
   ]
  },
  {
   "cell_type": "code",
   "execution_count": 28,
   "metadata": {},
   "outputs": [],
   "source": [
    "# 대회 평가 산식\n",
    "def lg_nrmse(true, pred):\n",
    "    # 각 Y Feature별 NRMSE 총합\n",
    "    # Y_01 ~ Y_08 까지 20% 가중치 부여\n",
    "    all_nrmse = []\n",
    "    \n",
    "    for idx in range(0,14): # ignore 'ID'\n",
    "        rmse = mean_squared_error(true[:,idx], pred[:,idx], squared=False)\n",
    "        nrmse = rmse/np.mean(np.abs(true[:,idx]))\n",
    "        all_nrmse.append(nrmse)\n",
    "    score = 1.2 * np.sum(all_nrmse[:8]) + 1.0 * np.sum(all_nrmse[8:15])\n",
    "    \n",
    "    return score"
   ]
  },
  {
   "cell_type": "code",
   "execution_count": 29,
   "metadata": {},
   "outputs": [],
   "source": [
    "## 모델 학습 및 score 출력 ##\n",
    "def train_score(model, x_train, y_train, x_test, y_test):\n",
    "    lgb_model = model.fit(x_train,y_train)\n",
    "    pred = lgb_model.predict(x_test)\n",
    "    rmse = lg_nrmse(y_test,pred)\n",
    "    return rmse"
   ]
  },
  {
   "cell_type": "code",
   "execution_count": 96,
   "metadata": {},
   "outputs": [],
   "source": [
    "def RMSE(y_true, y_pred):\n",
    "    return np.sqrt(mean_squared_error(y_true, y_pred))"
   ]
  },
  {
   "cell_type": "code",
   "execution_count": 81,
   "metadata": {},
   "outputs": [],
   "source": [
    "##파라미터 튜닝 범위\n",
    "hyper_space = {'n_estimators': hp.choice('n_estimators',np.arange(50, 500, 50, dtype=int)),\n",
    "               'learning_rate': hp.quniform('learning_rate', 0.01, 0.1, 0.005),\n",
    "               'max_depth': hp.choice('max_depth',np.arange(-1, 15, 1, dtype=int)),\n",
    "               'min_child_weight': hp.choice('min_child_weight',np.arange(1, 10, 1, dtype=int)),\n",
    "               'num_leaves': hp.choice('num_leaves',np.arange(16, 1024, 16, dtype=int))\n",
    "              }"
   ]
  },
  {
   "cell_type": "code",
   "execution_count": 97,
   "metadata": {},
   "outputs": [],
   "source": [
    "def hyper_tuning(hyper_space):\n",
    "  # Initilize instance of estimator\n",
    "  model = LGBMRegressor(**hyper_space)\n",
    "  \n",
    "  evaluation = [(X_train, y_train), (X_val, y_val)]\n",
    "  \n",
    "  model.fit(X_train, y_train,\n",
    "            eval_set = evaluation,\n",
    "            eval_metric='rmse',\n",
    "            early_stopping_rounds=30,\n",
    "            verbose=1)\n",
    "  #score\n",
    "  pred = model.predict(X_val)\n",
    "  rmse = RMSE(y_val, pred)\n",
    "  \n",
    "  return {'loss':rmse, 'status':STATUS_OK, 'model':model}"
   ]
  },
  {
   "cell_type": "code",
   "execution_count": 98,
   "metadata": {},
   "outputs": [
    {
     "name": "stdout",
     "output_type": "stream",
     "text": [
      "100%|██████████| 50/50 [00:18<00:00,  2.68trial/s, best loss: 2.738781760793041] \n",
      "{'learning_rate': 0.08, 'max_depth': 8, 'min_child_weight': 2, 'n_estimators': 8, 'reg_alpha': 10, 'reg_lambda': 100, 'random_state': 42}\n"
     ]
    }
   ],
   "source": [
    "# Trials 객체 선언\n",
    "trials = Trials()\n",
    "\n",
    "# best에 최적 하이퍼 파라미터를 return\n",
    "best = fmin(fn = hyper_tuning,\n",
    "            space=hyper_space,\n",
    "            algo=tpe.suggest,\n",
    "            max_evals=50,\n",
    "            trials=trials)\n",
    "\n",
    "best['max_depth'] = int(best['max_depth'])\n",
    "best['min_child_weight'] = int(best['min_child_weight'])\n",
    "best['n_estimators'] = int(best['n_estimators'])\n",
    "best['reg_alpha'] = reg_candidate[int(best['reg_alpha'])]\n",
    "best['reg_lambda'] = reg_candidate[int(best['reg_lambda'])]\n",
    "best['random_state'] = 42\n",
    "print (best)\n"
   ]
  },
  {
   "cell_type": "code",
   "execution_count": 99,
   "metadata": {},
   "outputs": [
    {
     "name": "stdout",
     "output_type": "stream",
     "text": [
      "Done.\n",
      "2.7965626533051067\n"
     ]
    }
   ],
   "source": [
    "# best parameters\n",
    "lgb = lgbm.LGBMRegressor(**best)\n",
    "lgb.fit(X_train, y_train)\n",
    "pred = lgb.predict(X_val)\n",
    "print('Done.')\n",
    "\n",
    "print(RMSE(y_val, pred))"
   ]
  },
  {
   "cell_type": "code",
   "execution_count": null,
   "metadata": {},
   "outputs": [],
   "source": [
    "lg_nrmse(np.array(y_val), preds)"
   ]
  },
  {
   "cell_type": "code",
   "execution_count": 79,
   "metadata": {},
   "outputs": [
    {
     "data": {
      "text/plain": [
       "0.3505521957207792"
      ]
     },
     "execution_count": 79,
     "metadata": {},
     "output_type": "execute_result"
    }
   ],
   "source": [
    "mean_squared_error(np.expm1(y_val).iloc[:,0], np.expm1(preds)[:,0], squared=False)"
   ]
  },
  {
   "cell_type": "code",
   "execution_count": 76,
   "metadata": {},
   "outputs": [
    {
     "name": "stdout",
     "output_type": "stream",
     "text": [
      "0.15207048672261406 0.18641542617028176 0.17866352571495792\n"
     ]
    }
   ],
   "source": [
    "print(mean_squared_error(np.array(y_val)[:,0], preds[:,0], squared=False),\n",
    "mean_squared_error(np.array(y_val)[:,1], preds[:,1], squared=False),\n",
    "mean_squared_error(np.array(y_val)[:,2], preds[:,2], squared=False))"
   ]
  },
  {
   "cell_type": "code",
   "execution_count": 19,
   "metadata": {},
   "outputs": [
    {
     "name": "stdout",
     "output_type": "stream",
     "text": [
      "Done.\n"
     ]
    }
   ],
   "source": [
    "# predictions for submission\n",
    "final_preds = Model.predict(test)\n",
    "print('Done.')"
   ]
  },
  {
   "cell_type": "code",
   "execution_count": 20,
   "metadata": {},
   "outputs": [
    {
     "name": "stdout",
     "output_type": "stream",
     "text": [
      "Done.\n"
     ]
    }
   ],
   "source": [
    "submit = pd.read_csv('./open/sample_submission.csv')\n",
    "\n",
    "for id, col in enumerate(submit.columns):\n",
    "    if col=='ID':\n",
    "        continue\n",
    "    submit[col] = final_preds[:,id-1]\n",
    "print('Done.')"
   ]
  },
  {
   "cell_type": "code",
   "execution_count": 21,
   "metadata": {},
   "outputs": [],
   "source": [
    "submit.to_csv('./submit_3.csv',index=False)"
   ]
  }
 ],
 "metadata": {
  "kernelspec": {
   "display_name": "Python 3.10.5 64-bit",
   "language": "python",
   "name": "python3"
  },
  "language_info": {
   "codemirror_mode": {
    "name": "ipython",
    "version": 3
   },
   "file_extension": ".py",
   "mimetype": "text/x-python",
   "name": "python",
   "nbconvert_exporter": "python",
   "pygments_lexer": "ipython3",
   "version": "3.10.5"
  },
  "orig_nbformat": 4,
  "vscode": {
   "interpreter": {
    "hash": "df95319d8ce4e1d89f5365ae10992bc1f65da593082b1d264e8f529830ec2f02"
   }
  }
 },
 "nbformat": 4,
 "nbformat_minor": 2
}
